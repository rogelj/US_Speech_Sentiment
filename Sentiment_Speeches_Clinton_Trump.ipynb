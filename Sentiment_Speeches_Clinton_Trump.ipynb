{
 "cells": [
  {
   "cell_type": "markdown",
   "metadata": {},
   "source": [
    "# Sentiment in US Politics \n",
    "\n",
    "Author: **Dr J Rogel-Salazar**\n",
    "\n",
    "In this notebook we run a straightforward sentiment analysis algorithm over a sample of speeches given by the two major candidates of the 2016 US election, Hillary Clinton and Donald Trump.\n",
    "\n",
    "The speeches were given in various locations in the US and the text has been left as sourced by Nick Root."
   ]
  },
  {
   "cell_type": "code",
   "execution_count": 1,
   "metadata": {
    "collapsed": false
   },
   "outputs": [
    {
     "name": "stdout",
     "output_type": "stream",
     "text": [
      "Populating the interactive namespace from numpy and matplotlib\n"
     ]
    }
   ],
   "source": [
    "%pylab inline\n",
    "import pandas as pd\n",
    "import re"
   ]
  },
  {
   "cell_type": "code",
   "execution_count": 2,
   "metadata": {
    "collapsed": false
   },
   "outputs": [],
   "source": [
    "speeches = pd.read_csv('./Speeches/Speeches_Metadata.csv', na_values=\"\")\n",
    "speeches.replace(np.nan,' ', regex=True, inplace=1)"
   ]
  },
  {
   "cell_type": "code",
   "execution_count": 3,
   "metadata": {
    "collapsed": false
   },
   "outputs": [
    {
     "data": {
      "text/html": [
       "<div>\n",
       "<table border=\"1\" class=\"dataframe\">\n",
       "  <thead>\n",
       "    <tr style=\"text-align: right;\">\n",
       "      <th></th>\n",
       "      <th>Speech_ID</th>\n",
       "      <th>Speaker</th>\n",
       "      <th>Date</th>\n",
       "      <th>Location 1</th>\n",
       "      <th>Location 2</th>\n",
       "      <th>Event type</th>\n",
       "      <th>Comment</th>\n",
       "      <th>File</th>\n",
       "    </tr>\n",
       "  </thead>\n",
       "  <tbody>\n",
       "    <tr>\n",
       "      <th>0</th>\n",
       "      <td>1</td>\n",
       "      <td>HC</td>\n",
       "      <td>01/08/16</td>\n",
       "      <td>Omaha</td>\n",
       "      <td>Nebraska</td>\n",
       "      <td></td>\n",
       "      <td>Use</td>\n",
       "      <td>01_HC_20160801_Omaha.txt</td>\n",
       "    </tr>\n",
       "    <tr>\n",
       "      <th>1</th>\n",
       "      <td>2</td>\n",
       "      <td>HC</td>\n",
       "      <td>03/08/16</td>\n",
       "      <td>Commerce City</td>\n",
       "      <td>Colorado</td>\n",
       "      <td>Speech</td>\n",
       "      <td>Use</td>\n",
       "      <td>02_HC_20160803_Colorado.txt</td>\n",
       "    </tr>\n",
       "    <tr>\n",
       "      <th>2</th>\n",
       "      <td>3</td>\n",
       "      <td>HC</td>\n",
       "      <td>04/08/16</td>\n",
       "      <td>Las Vegas</td>\n",
       "      <td>Nevada</td>\n",
       "      <td>Speech</td>\n",
       "      <td>Use</td>\n",
       "      <td>03_HC_20160804_Vegas.txt</td>\n",
       "    </tr>\n",
       "    <tr>\n",
       "      <th>3</th>\n",
       "      <td>4</td>\n",
       "      <td>HC</td>\n",
       "      <td>05/08/16</td>\n",
       "      <td></td>\n",
       "      <td>Washington DC</td>\n",
       "      <td>Speech</td>\n",
       "      <td>Use</td>\n",
       "      <td>04_HC_20160805_Wash.txt</td>\n",
       "    </tr>\n",
       "    <tr>\n",
       "      <th>4</th>\n",
       "      <td>5</td>\n",
       "      <td>HC</td>\n",
       "      <td>08/08/16</td>\n",
       "      <td>St. Petersburg</td>\n",
       "      <td>Florida</td>\n",
       "      <td>Speech</td>\n",
       "      <td>Use</td>\n",
       "      <td>05_HC_20160808_StPetes.txt</td>\n",
       "    </tr>\n",
       "  </tbody>\n",
       "</table>\n",
       "</div>"
      ],
      "text/plain": [
       "   Speech_ID Speaker      Date      Location 1     Location 2 Event type  \\\n",
       "0          1      HC  01/08/16           Omaha       Nebraska              \n",
       "1          2      HC  03/08/16   Commerce City       Colorado     Speech   \n",
       "2          3      HC  04/08/16       Las Vegas         Nevada     Speech   \n",
       "3          4      HC  05/08/16                  Washington DC     Speech   \n",
       "4          5      HC  08/08/16  St. Petersburg        Florida     Speech   \n",
       "\n",
       "  Comment                         File  \n",
       "0     Use     01_HC_20160801_Omaha.txt  \n",
       "1     Use  02_HC_20160803_Colorado.txt  \n",
       "2     Use     03_HC_20160804_Vegas.txt  \n",
       "3     Use      04_HC_20160805_Wash.txt  \n",
       "4     Use   05_HC_20160808_StPetes.txt  "
      ]
     },
     "execution_count": 3,
     "metadata": {},
     "output_type": "execute_result"
    }
   ],
   "source": [
    "speeches.head()"
   ]
  },
  {
   "cell_type": "code",
   "execution_count": 4,
   "metadata": {
    "collapsed": true
   },
   "outputs": [],
   "source": [
    "sp = speeches[speeches['Comment']==\"Use\"]\n",
    "sp.is_copy = False"
   ]
  },
  {
   "cell_type": "code",
   "execution_count": 5,
   "metadata": {
    "collapsed": false
   },
   "outputs": [],
   "source": [
    "fnames = \"./Speeches/\" + sp['Speaker'] + '/' + sp[\"File\"]"
   ]
  },
  {
   "cell_type": "markdown",
   "metadata": {},
   "source": [
    "# Sentiment\n",
    "\n",
    "In this example we create a straightforward sentiment analysis based on individual words used. More complex information can be extracted by looking a combination of words (bigrams for example), but for the purposes of this demo it will suffice to look at monograms."
   ]
  },
  {
   "cell_type": "code",
   "execution_count": 6,
   "metadata": {
    "collapsed": true
   },
   "outputs": [],
   "source": [
    "from string import punctuation\n",
    "\n",
    "fsentim = ['positive.txt', 'negative.txt',]"
   ]
  },
  {
   "cell_type": "code",
   "execution_count": 7,
   "metadata": {
    "collapsed": false
   },
   "outputs": [],
   "source": [
    "# Getting th positive and negative words\n",
    "pos_sent = open('./Sentiment_Words/' + fsentim[0]).read()\n",
    "positive_words = pos_sent.split('\\n')\n",
    "\n",
    "neg_sent = open('./Sentiment_Words/' + fsentim[1]).read()\n",
    "negative_words = neg_sent.split('\\n')"
   ]
  },
  {
   "cell_type": "markdown",
   "metadata": {
    "collapsed": true
   },
   "source": [
    "Adding a list of stop words in English"
   ]
  },
  {
   "cell_type": "code",
   "execution_count": 8,
   "metadata": {
    "collapsed": false
   },
   "outputs": [],
   "source": [
    "from nltk.corpus import stopwords\n",
    "stopset = set(stopwords.words('english'))\n",
    " \n",
    "def stopword_filter(words):\n",
    "    return [word for word in words if word not in stopset]\n",
    " "
   ]
  },
  {
   "cell_type": "markdown",
   "metadata": {},
   "source": [
    "# Using a word count approach"
   ]
  },
  {
   "cell_type": "code",
   "execution_count": 9,
   "metadata": {
    "collapsed": false
   },
   "outputs": [],
   "source": [
    "# Initialising lists to hold sentiment average values\n",
    "pos_avg = []\n",
    "neg_avg = []\n",
    "\n",
    "for fname in fnames:\n",
    "    # Initialising list to hold count of positive\n",
    "    # and negative words\n",
    "    positive_counts = []\n",
    "    negative_counts = []\n",
    "\n",
    "    with open(fname, encoding=\"latin\") as infile:\n",
    "\n",
    "        # Cleaning lines in the file\n",
    "        for line in infile:\n",
    "            lline = line.lower()\n",
    "            for p in list(punctuation):\n",
    "                lline = lline.replace(p, '')\n",
    "            \n",
    "            re.sub('\\s+', ' ', lline).strip()\n",
    "\n",
    "            words = lline.split(' ')\n",
    "            mwords = stopword_filter(words)\n",
    "            word_count = len(mwords)\n",
    "            \n",
    "            # Counting positive and negative words\n",
    "            positive_counter=0\n",
    "            negative_counter=0\n",
    "            for word in words:\n",
    "                if word in positive_words:\n",
    "                    positive_counter += 1\n",
    "                elif word in negative_words:\n",
    "                    negative_counter += 1\n",
    "\n",
    "            positive_counts.append(positive_counter/word_count)\n",
    "            negative_counts.append(negative_counter/word_count)\n",
    "\n",
    "        pos_avg.append(np.mean(positive_counts))\n",
    "        neg_avg.append(np.mean(negative_counts))"
   ]
  },
  {
   "cell_type": "code",
   "execution_count": 10,
   "metadata": {
    "collapsed": false
   },
   "outputs": [],
   "source": [
    "sp['positive_avg']=pos_avg"
   ]
  },
  {
   "cell_type": "code",
   "execution_count": 11,
   "metadata": {
    "collapsed": false
   },
   "outputs": [],
   "source": [
    "sp['negative_avg']=neg_avg"
   ]
  },
  {
   "cell_type": "code",
   "execution_count": 12,
   "metadata": {
    "collapsed": false
   },
   "outputs": [
    {
     "data": {
      "text/html": [
       "<div>\n",
       "<table border=\"1\" class=\"dataframe\">\n",
       "  <thead>\n",
       "    <tr style=\"text-align: right;\">\n",
       "      <th></th>\n",
       "      <th>Speech_ID</th>\n",
       "      <th>Speaker</th>\n",
       "      <th>positive_avg</th>\n",
       "      <th>negative_avg</th>\n",
       "    </tr>\n",
       "  </thead>\n",
       "  <tbody>\n",
       "    <tr>\n",
       "      <th>0</th>\n",
       "      <td>1</td>\n",
       "      <td>HC</td>\n",
       "      <td>0.080675</td>\n",
       "      <td>0.026952</td>\n",
       "    </tr>\n",
       "    <tr>\n",
       "      <th>1</th>\n",
       "      <td>2</td>\n",
       "      <td>HC</td>\n",
       "      <td>0.084656</td>\n",
       "      <td>0.027000</td>\n",
       "    </tr>\n",
       "    <tr>\n",
       "      <th>2</th>\n",
       "      <td>3</td>\n",
       "      <td>HC</td>\n",
       "      <td>0.084236</td>\n",
       "      <td>0.031590</td>\n",
       "    </tr>\n",
       "    <tr>\n",
       "      <th>3</th>\n",
       "      <td>4</td>\n",
       "      <td>HC</td>\n",
       "      <td>0.095298</td>\n",
       "      <td>0.041599</td>\n",
       "    </tr>\n",
       "    <tr>\n",
       "      <th>4</th>\n",
       "      <td>5</td>\n",
       "      <td>HC</td>\n",
       "      <td>0.081986</td>\n",
       "      <td>0.020593</td>\n",
       "    </tr>\n",
       "    <tr>\n",
       "      <th>5</th>\n",
       "      <td>6</td>\n",
       "      <td>HC</td>\n",
       "      <td>0.105439</td>\n",
       "      <td>0.032817</td>\n",
       "    </tr>\n",
       "    <tr>\n",
       "      <th>6</th>\n",
       "      <td>7</td>\n",
       "      <td>HC</td>\n",
       "      <td>0.082305</td>\n",
       "      <td>0.058526</td>\n",
       "    </tr>\n",
       "    <tr>\n",
       "      <th>7</th>\n",
       "      <td>8</td>\n",
       "      <td>HC</td>\n",
       "      <td>0.113955</td>\n",
       "      <td>0.044439</td>\n",
       "    </tr>\n",
       "    <tr>\n",
       "      <th>8</th>\n",
       "      <td>9</td>\n",
       "      <td>HC</td>\n",
       "      <td>0.089276</td>\n",
       "      <td>0.035332</td>\n",
       "    </tr>\n",
       "    <tr>\n",
       "      <th>9</th>\n",
       "      <td>10</td>\n",
       "      <td>HC</td>\n",
       "      <td>0.125443</td>\n",
       "      <td>0.046042</td>\n",
       "    </tr>\n",
       "    <tr>\n",
       "      <th>10</th>\n",
       "      <td>11</td>\n",
       "      <td>HC</td>\n",
       "      <td>0.077151</td>\n",
       "      <td>0.046028</td>\n",
       "    </tr>\n",
       "    <tr>\n",
       "      <th>11</th>\n",
       "      <td>12</td>\n",
       "      <td>HC</td>\n",
       "      <td>0.087585</td>\n",
       "      <td>0.045714</td>\n",
       "    </tr>\n",
       "    <tr>\n",
       "      <th>12</th>\n",
       "      <td>13</td>\n",
       "      <td>HC</td>\n",
       "      <td>0.085755</td>\n",
       "      <td>0.040524</td>\n",
       "    </tr>\n",
       "    <tr>\n",
       "      <th>13</th>\n",
       "      <td>14</td>\n",
       "      <td>HC</td>\n",
       "      <td>0.084818</td>\n",
       "      <td>0.038082</td>\n",
       "    </tr>\n",
       "    <tr>\n",
       "      <th>14</th>\n",
       "      <td>15</td>\n",
       "      <td>HC</td>\n",
       "      <td>0.103884</td>\n",
       "      <td>0.053973</td>\n",
       "    </tr>\n",
       "    <tr>\n",
       "      <th>15</th>\n",
       "      <td>16</td>\n",
       "      <td>HC</td>\n",
       "      <td>0.097503</td>\n",
       "      <td>0.030627</td>\n",
       "    </tr>\n",
       "    <tr>\n",
       "      <th>16</th>\n",
       "      <td>17</td>\n",
       "      <td>HC</td>\n",
       "      <td>0.100128</td>\n",
       "      <td>0.022390</td>\n",
       "    </tr>\n",
       "    <tr>\n",
       "      <th>17</th>\n",
       "      <td>18</td>\n",
       "      <td>HC</td>\n",
       "      <td>0.098065</td>\n",
       "      <td>0.053530</td>\n",
       "    </tr>\n",
       "    <tr>\n",
       "      <th>18</th>\n",
       "      <td>19</td>\n",
       "      <td>HC</td>\n",
       "      <td>0.088241</td>\n",
       "      <td>0.044665</td>\n",
       "    </tr>\n",
       "    <tr>\n",
       "      <th>19</th>\n",
       "      <td>20</td>\n",
       "      <td>HC</td>\n",
       "      <td>0.088631</td>\n",
       "      <td>0.051797</td>\n",
       "    </tr>\n",
       "    <tr>\n",
       "      <th>20</th>\n",
       "      <td>21</td>\n",
       "      <td>DT</td>\n",
       "      <td>0.122338</td>\n",
       "      <td>0.051914</td>\n",
       "    </tr>\n",
       "    <tr>\n",
       "      <th>21</th>\n",
       "      <td>22</td>\n",
       "      <td>DT</td>\n",
       "      <td>0.107095</td>\n",
       "      <td>0.045106</td>\n",
       "    </tr>\n",
       "    <tr>\n",
       "      <th>22</th>\n",
       "      <td>23</td>\n",
       "      <td>DT</td>\n",
       "      <td>0.136079</td>\n",
       "      <td>0.036070</td>\n",
       "    </tr>\n",
       "    <tr>\n",
       "      <th>23</th>\n",
       "      <td>24</td>\n",
       "      <td>DT</td>\n",
       "      <td>0.101379</td>\n",
       "      <td>0.029158</td>\n",
       "    </tr>\n",
       "    <tr>\n",
       "      <th>24</th>\n",
       "      <td>25</td>\n",
       "      <td>DT</td>\n",
       "      <td>0.080218</td>\n",
       "      <td>0.051389</td>\n",
       "    </tr>\n",
       "    <tr>\n",
       "      <th>25</th>\n",
       "      <td>26</td>\n",
       "      <td>DT</td>\n",
       "      <td>0.075480</td>\n",
       "      <td>0.032127</td>\n",
       "    </tr>\n",
       "    <tr>\n",
       "      <th>26</th>\n",
       "      <td>27</td>\n",
       "      <td>DT</td>\n",
       "      <td>0.080266</td>\n",
       "      <td>0.028947</td>\n",
       "    </tr>\n",
       "    <tr>\n",
       "      <th>27</th>\n",
       "      <td>28</td>\n",
       "      <td>DT</td>\n",
       "      <td>0.032806</td>\n",
       "      <td>0.014200</td>\n",
       "    </tr>\n",
       "    <tr>\n",
       "      <th>28</th>\n",
       "      <td>29</td>\n",
       "      <td>DT</td>\n",
       "      <td>0.111431</td>\n",
       "      <td>0.084809</td>\n",
       "    </tr>\n",
       "    <tr>\n",
       "      <th>29</th>\n",
       "      <td>30</td>\n",
       "      <td>DT</td>\n",
       "      <td>0.103199</td>\n",
       "      <td>0.052319</td>\n",
       "    </tr>\n",
       "    <tr>\n",
       "      <th>30</th>\n",
       "      <td>31</td>\n",
       "      <td>DT</td>\n",
       "      <td>0.104690</td>\n",
       "      <td>0.050442</td>\n",
       "    </tr>\n",
       "    <tr>\n",
       "      <th>31</th>\n",
       "      <td>32</td>\n",
       "      <td>DT</td>\n",
       "      <td>0.107601</td>\n",
       "      <td>0.056175</td>\n",
       "    </tr>\n",
       "    <tr>\n",
       "      <th>32</th>\n",
       "      <td>33</td>\n",
       "      <td>DT</td>\n",
       "      <td>0.129916</td>\n",
       "      <td>0.040350</td>\n",
       "    </tr>\n",
       "    <tr>\n",
       "      <th>33</th>\n",
       "      <td>34</td>\n",
       "      <td>DT</td>\n",
       "      <td>0.053302</td>\n",
       "      <td>0.019691</td>\n",
       "    </tr>\n",
       "    <tr>\n",
       "      <th>34</th>\n",
       "      <td>35</td>\n",
       "      <td>DT</td>\n",
       "      <td>0.107266</td>\n",
       "      <td>0.046511</td>\n",
       "    </tr>\n",
       "    <tr>\n",
       "      <th>35</th>\n",
       "      <td>36</td>\n",
       "      <td>DT</td>\n",
       "      <td>0.096262</td>\n",
       "      <td>0.041966</td>\n",
       "    </tr>\n",
       "    <tr>\n",
       "      <th>36</th>\n",
       "      <td>37</td>\n",
       "      <td>DT</td>\n",
       "      <td>0.106876</td>\n",
       "      <td>0.078256</td>\n",
       "    </tr>\n",
       "    <tr>\n",
       "      <th>37</th>\n",
       "      <td>38</td>\n",
       "      <td>DT</td>\n",
       "      <td>0.071941</td>\n",
       "      <td>0.085858</td>\n",
       "    </tr>\n",
       "    <tr>\n",
       "      <th>38</th>\n",
       "      <td>39</td>\n",
       "      <td>DT</td>\n",
       "      <td>0.108264</td>\n",
       "      <td>0.056415</td>\n",
       "    </tr>\n",
       "    <tr>\n",
       "      <th>39</th>\n",
       "      <td>40</td>\n",
       "      <td>DT</td>\n",
       "      <td>0.101658</td>\n",
       "      <td>0.049699</td>\n",
       "    </tr>\n",
       "  </tbody>\n",
       "</table>\n",
       "</div>"
      ],
      "text/plain": [
       "    Speech_ID Speaker  positive_avg  negative_avg\n",
       "0           1      HC      0.080675      0.026952\n",
       "1           2      HC      0.084656      0.027000\n",
       "2           3      HC      0.084236      0.031590\n",
       "3           4      HC      0.095298      0.041599\n",
       "4           5      HC      0.081986      0.020593\n",
       "5           6      HC      0.105439      0.032817\n",
       "6           7      HC      0.082305      0.058526\n",
       "7           8      HC      0.113955      0.044439\n",
       "8           9      HC      0.089276      0.035332\n",
       "9          10      HC      0.125443      0.046042\n",
       "10         11      HC      0.077151      0.046028\n",
       "11         12      HC      0.087585      0.045714\n",
       "12         13      HC      0.085755      0.040524\n",
       "13         14      HC      0.084818      0.038082\n",
       "14         15      HC      0.103884      0.053973\n",
       "15         16      HC      0.097503      0.030627\n",
       "16         17      HC      0.100128      0.022390\n",
       "17         18      HC      0.098065      0.053530\n",
       "18         19      HC      0.088241      0.044665\n",
       "19         20      HC      0.088631      0.051797\n",
       "20         21      DT      0.122338      0.051914\n",
       "21         22      DT      0.107095      0.045106\n",
       "22         23      DT      0.136079      0.036070\n",
       "23         24      DT      0.101379      0.029158\n",
       "24         25      DT      0.080218      0.051389\n",
       "25         26      DT      0.075480      0.032127\n",
       "26         27      DT      0.080266      0.028947\n",
       "27         28      DT      0.032806      0.014200\n",
       "28         29      DT      0.111431      0.084809\n",
       "29         30      DT      0.103199      0.052319\n",
       "30         31      DT      0.104690      0.050442\n",
       "31         32      DT      0.107601      0.056175\n",
       "32         33      DT      0.129916      0.040350\n",
       "33         34      DT      0.053302      0.019691\n",
       "34         35      DT      0.107266      0.046511\n",
       "35         36      DT      0.096262      0.041966\n",
       "36         37      DT      0.106876      0.078256\n",
       "37         38      DT      0.071941      0.085858\n",
       "38         39      DT      0.108264      0.056415\n",
       "39         40      DT      0.101658      0.049699"
      ]
     },
     "execution_count": 12,
     "metadata": {},
     "output_type": "execute_result"
    }
   ],
   "source": [
    "sp[['Speech_ID', 'Speaker', 'positive_avg','negative_avg']]"
   ]
  },
  {
   "cell_type": "markdown",
   "metadata": {
    "collapsed": true
   },
   "source": [
    "# Let us use TextBlob for sentiment analysis\n"
   ]
  },
  {
   "cell_type": "code",
   "execution_count": 13,
   "metadata": {
    "collapsed": false
   },
   "outputs": [],
   "source": [
    "from textblob import TextBlob\n"
   ]
  },
  {
   "cell_type": "code",
   "execution_count": 14,
   "metadata": {
    "collapsed": false
   },
   "outputs": [],
   "source": [
    "# Initialising list to hold sentiment and subjectivity values\n",
    "sentiment = []\n",
    "subjectivity = []\n",
    "\n",
    "for fname in fnames:\n",
    "\n",
    "    with open(fname, 'r', encoding=\"latin\") as infile:\n",
    "        content = infile.read()\n",
    "        \n",
    "        blob = TextBlob(content)\n",
    "        # Calculating sentiment and subjectivity\n",
    "        sentiment.append(blob.sentiment.polarity)\n",
    "        subjectivity.append(blob.sentiment.subjectivity)"
   ]
  },
  {
   "cell_type": "code",
   "execution_count": 15,
   "metadata": {
    "collapsed": false
   },
   "outputs": [],
   "source": [
    "sp['sentiment']=sentiment\n",
    "sp['subjectivity']=subjectivity"
   ]
  },
  {
   "cell_type": "code",
   "execution_count": 16,
   "metadata": {
    "collapsed": false
   },
   "outputs": [
    {
     "data": {
      "text/html": [
       "<div>\n",
       "<table border=\"1\" class=\"dataframe\">\n",
       "  <thead>\n",
       "    <tr style=\"text-align: right;\">\n",
       "      <th></th>\n",
       "      <th>Speech_ID</th>\n",
       "      <th>Speaker</th>\n",
       "      <th>sentiment</th>\n",
       "    </tr>\n",
       "  </thead>\n",
       "  <tbody>\n",
       "    <tr>\n",
       "      <th>0</th>\n",
       "      <td>1</td>\n",
       "      <td>HC</td>\n",
       "      <td>0.152623</td>\n",
       "    </tr>\n",
       "    <tr>\n",
       "      <th>1</th>\n",
       "      <td>2</td>\n",
       "      <td>HC</td>\n",
       "      <td>0.168907</td>\n",
       "    </tr>\n",
       "    <tr>\n",
       "      <th>2</th>\n",
       "      <td>3</td>\n",
       "      <td>HC</td>\n",
       "      <td>0.171133</td>\n",
       "    </tr>\n",
       "    <tr>\n",
       "      <th>3</th>\n",
       "      <td>4</td>\n",
       "      <td>HC</td>\n",
       "      <td>0.122291</td>\n",
       "    </tr>\n",
       "    <tr>\n",
       "      <th>4</th>\n",
       "      <td>5</td>\n",
       "      <td>HC</td>\n",
       "      <td>0.141604</td>\n",
       "    </tr>\n",
       "  </tbody>\n",
       "</table>\n",
       "</div>"
      ],
      "text/plain": [
       "   Speech_ID Speaker  sentiment\n",
       "0          1      HC   0.152623\n",
       "1          2      HC   0.168907\n",
       "2          3      HC   0.171133\n",
       "3          4      HC   0.122291\n",
       "4          5      HC   0.141604"
      ]
     },
     "execution_count": 16,
     "metadata": {},
     "output_type": "execute_result"
    }
   ],
   "source": [
    "sp[['Speech_ID', 'Speaker', 'sentiment']].head()"
   ]
  },
  {
   "cell_type": "code",
   "execution_count": 17,
   "metadata": {
    "collapsed": false
   },
   "outputs": [
    {
     "data": {
      "text/plain": [
       "[<matplotlib.text.Text at 0x113342400>]"
      ]
     },
     "execution_count": 17,
     "metadata": {},
     "output_type": "execute_result"
    },
    {
     "data": {
      "image/png": "[encoded data removed]",
      "text/plain": [
       "<matplotlib.figure.Figure at 0x11317bb70>"
      ]
     },
     "metadata": {},
     "output_type": "display_data"
    }
   ],
   "source": [
    "import seaborn as sns\n",
    "sns.set(style=\"whitegrid\")\n",
    "\n",
    "# Initialize the matplotlib figure\n",
    "f, ax = plt.subplots(figsize=(10, 6))\n",
    "\n",
    "# Plot the sentiment\n",
    "sns.barplot(x=\"Speech_ID\", y=\"sentiment\", hue='Speaker', data=sp, palette=sns.color_palette(\"RdBu_r\", 2))\n",
    "\n",
    "# Add a legend and informative axis label\n",
    "ax.legend(ncol=2, loc=\"lower right\", frameon=True)\n",
    "ax.set(xlabel=\"Speech\")\n",
    "ax.set(ylabel=\"Sentiment\")\n",
    "# sns.despine(left=True, bottom=True)"
   ]
  },
  {
   "cell_type": "code",
   "execution_count": 18,
   "metadata": {
    "collapsed": false
   },
   "outputs": [
    {
     "data": {
      "text/plain": [
       "array([<matplotlib.axes._subplots.AxesSubplot object at 0x1133595c0>,\n",
       "       <matplotlib.axes._subplots.AxesSubplot object at 0x1161c0780>], dtype=object)"
      ]
     },
     "execution_count": 18,
     "metadata": {},
     "output_type": "execute_result"
    },
    {
     "data": {
      "image/png": "[encoded data removed]",
      "text/plain": [
       "<matplotlib.figure.Figure at 0x1133590b8>"
      ]
     },
     "metadata": {},
     "output_type": "display_data"
    }
   ],
   "source": [
    "sp.boxplot(['positive_avg','negative_avg'], 'Speaker')"
   ]
  },
  {
   "cell_type": "code",
   "execution_count": null,
   "metadata": {
    "collapsed": true
   },
   "outputs": [],
   "source": []
  }
 ],
 "metadata": {
  "anaconda-cloud": {},
  "kernelspec": {
   "display_name": "Python [default]",
   "language": "python",
   "name": "python3"
  },
  "language_info": {
   "codemirror_mode": {
    "name": "ipython",
    "version": 3
   },
   "file_extension": ".py",
   "mimetype": "text/x-python",
   "name": "python",
   "nbconvert_exporter": "python",
   "pygments_lexer": "ipython3",
   "version": "3.5.2"
  }
 },
 "nbformat": 4,
 "nbformat_minor": 1
}
